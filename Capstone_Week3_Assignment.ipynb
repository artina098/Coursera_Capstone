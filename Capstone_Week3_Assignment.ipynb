{
    "cells": [
        {
            "cell_type": "markdown",
            "metadata": {
                "collapsed": true
            },
            "source": "# Applied Data Science Capstone"
        },
        {
            "cell_type": "markdown",
            "metadata": {},
            "source": "\n## Week 3 Assignment\n<b>Author: Ying </b>\n"
        },
        {
            "cell_type": "markdown",
            "metadata": {},
            "source": "### Assignment 1: Download and explore dataset"
        },
        {
            "cell_type": "code",
            "execution_count": null,
            "metadata": {},
            "outputs": [],
            "source": "# import labraries for dataset\n\nimport numpy as np # library to handle data in a vectorized manner\n\nimport pandas as pd # library for data analsysis\npd.set_option('display.max_columns', None)\npd.set_option('display.max_rows', None)\n\nfrom bs4 import BeautifulSoup\nimport urllib.request\n\nimport json # library to handle JSON files\n\n#!conda install -c conda-forge geopy --yes # uncomment this line if you haven't completed the Foursquare API lab\nfrom geopy.geocoders import Nominatim # convert an address into latitude and longitude values\n\nimport requests # library to handle requests\nfrom pandas.io.json import json_normalize # tranform JSON file into a pandas dataframe\n\n# Matplotlib and associated plotting modules\nimport matplotlib.cm as cm\nimport matplotlib.colors as colors\n\n# import k-means from clustering stage\nfrom sklearn.cluster import KMeans\n\n!conda install -c conda-forge folium=0.5.0 --yes # uncomment this line if you haven't completed the Foursquare API lab\nimport folium # map rendering library\n\nprint('Libraries imported.')"
        },
        {
            "cell_type": "markdown",
            "metadata": {},
            "source": "#### Get data from website"
        },
        {
            "cell_type": "code",
            "execution_count": null,
            "metadata": {},
            "outputs": [],
            "source": "# extract data from website \n\nurl = \"https://en.wikipedia.org/wiki/List_of_postal_codes_of_Canada:_M\"\n\nwebsource = urllib.request.urlopen(url)\nsoup = BeautifulSoup(websource.read(),\"html.parser\")\n\nwiki_table = soup.body.table.tbody\n\nprint(type(wiki_table), wiki_table)\n"
        },
        {
            "cell_type": "markdown",
            "metadata": {},
            "source": "#### store the data in a list"
        },
        {
            "cell_type": "code",
            "execution_count": null,
            "metadata": {},
            "outputs": [],
            "source": "# Extract data from table to the data frame\n\n# get data from wiki_table (type: bs4.element.Tag).\n# store the data in one dimension list\n\ncells = wiki_table.find_all(\"td\")\nrow = []\n\nfor cell in cells:\n    \n    row.append(cell.text.strip())\n    \n#conver the one dimension list to two dimension list\n\ndata = []\n\nfor index in range(0,len(row),3):\n\n        data.append([row[index],row[index+1],row[index+2]])\n\n#get the top three elements\ndata[:3]\n"
        },
        {
            "cell_type": "markdown",
            "metadata": {},
            "source": "#### Build a dataframe"
        },
        {
            "cell_type": "code",
            "execution_count": null,
            "metadata": {},
            "outputs": [],
            "source": "# build a dataframe to store the data\n\ncolumns = ['Postcode','Borough','Neighbourhood']\n\ndf = pd.DataFrame(data,columns=columns)\n\ndf\n"
        },
        {
            "cell_type": "code",
            "execution_count": null,
            "metadata": {},
            "outputs": [],
            "source": "print(df.shape)\nprint(len(df['Postcode'].unique()))"
        },
        {
            "cell_type": "markdown",
            "metadata": {},
            "source": "#### Cleaning data"
        },
        {
            "cell_type": "code",
            "execution_count": null,
            "metadata": {},
            "outputs": [],
            "source": "# get rid of not assigned borough data\n\ndf1 = df[df.Borough != 'Not assigned']\ndf1 = df1.sort_values(by=['Postcode','Borough'])\n\ndf1.reset_index(inplace=True)\ndf1.drop('index',axis=1,inplace=True)\n\ndf1\n"
        },
        {
            "cell_type": "code",
            "execution_count": null,
            "metadata": {},
            "outputs": [],
            "source": "# Check df1 data information\n\nprint(df1.describe())\nprint(type(df1))\n"
        },
        {
            "cell_type": "code",
            "execution_count": null,
            "metadata": {},
            "outputs": [],
            "source": "# More than one neighborhood can exist in one postal code area. For example, in the table on the Wikipedia page, \n# you will notice that M5A is listed twice and has two neighborhoods: Harbourfront and Regent Park. \n# These two rows will be combined into one row with the neighborhoods separated with a comma as shown in row 11 in the above table.\n    \ndf1['Neighbourhood'] = df1['Neighbourhood'].str.replace(' /',',')\ndf1"
        },
        {
            "cell_type": "code",
            "execution_count": null,
            "metadata": {},
            "outputs": [],
            "source": "df1.shape"
        },
        {
            "cell_type": "markdown",
            "metadata": {},
            "source": "### Assignment 2: get latitude and longtitude data"
        },
        {
            "cell_type": "code",
            "execution_count": null,
            "metadata": {},
            "outputs": [],
            "source": "# The code was removed by Watson Studio for sharing."
        },
        {
            "cell_type": "code",
            "execution_count": null,
            "metadata": {},
            "outputs": [],
            "source": "# loop to get all latitude and longtitude of all postcodes\n\npostal_codes = df1['PostCode']\n\ncoords = [get_latlng(postal_code) for postal_code in postal_codes.tolist()]\n"
        },
        {
            "cell_type": "code",
            "execution_count": null,
            "metadata": {},
            "outputs": [],
            "source": ""
        },
        {
            "cell_type": "code",
            "execution_count": null,
            "metadata": {},
            "outputs": [],
            "source": ""
        },
        {
            "cell_type": "code",
            "execution_count": null,
            "metadata": {},
            "outputs": [],
            "source": ""
        },
        {
            "cell_type": "markdown",
            "metadata": {},
            "source": "### Assignment 3: Explore and Cluster the neighborhoods"
        }
    ],
    "metadata": {
        "kernelspec": {
            "display_name": "Python 3.6",
            "language": "python",
            "name": "python3"
        },
        "language_info": {
            "codemirror_mode": {
                "name": "ipython",
                "version": 3
            },
            "file_extension": ".py",
            "mimetype": "text/x-python",
            "name": "python",
            "nbconvert_exporter": "python",
            "pygments_lexer": "ipython3",
            "version": "3.6.9"
        }
    },
    "nbformat": 4,
    "nbformat_minor": 1
}